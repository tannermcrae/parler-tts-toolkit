{
 "cells": [
  {
   "cell_type": "markdown",
   "metadata": {},
   "source": [
    "# Training Notebook\n",
    "This notebook demonstrates how to train parler tts models using SageMaker.\n",
    "* Push the training data to S3\n",
    "* Train the model\n",
    "* Spot check the training results"
   ]
  },
  {
   "cell_type": "code",
   "execution_count": null,
   "metadata": {},
   "outputs": [],
   "source": [
    "import sagemaker\n",
    "import boto3\n",
    "import os\n",
    "\n",
    "sess = sagemaker.Session()\n",
    "# sagemaker session bucket -> used for uploading data, models and logs\n",
    "# sagemaker will automatically create this bucket if it not exists\n",
    "sagemaker_session_bucket=None\n",
    "if sagemaker_session_bucket is None and sess is not None:\n",
    "    # set to default bucket if a bucket name is not given\n",
    "    sagemaker_session_bucket = sess.default_bucket()\n",
    " \n",
    "try:\n",
    "    role = sagemaker.get_execution_role()\n",
    "except ValueError:\n",
    "    iam = boto3.client('iam')\n",
    "    role = iam.get_role(RoleName='sagemaker_execution_role')['Role']['Arn']\n",
    " \n",
    "sess = sagemaker.Session(default_bucket=sagemaker_session_bucket)\n",
    " \n",
    "print(f\"sagemaker role arn: {role}\")\n",
    "print(f\"sagemaker bucket: {sess.default_bucket()}\")\n",
    "print(f\"sagemaker session region: {sess.boto_region_name}\")"
   ]
  },
  {
   "cell_type": "markdown",
   "metadata": {},
   "source": [
    "## Build the Training container\n",
    "In the terminal, run the following command to build the inference container and push it to ECR>\n",
    "\n",
    "**Note** In a production environment, you will likely want to build the container in a CI/CD pipeline by executing the script as an action in github, gitlab, or another CI/CD platform.\n",
    "\n",
    "```bash\n",
    "$ cd ..\n",
    "$ . ./script/build-serve-container.sh train\n",
    "```\n",
    "\n",
    "Copy the output URI from the terminal output and paste it into the variable `image_uri` below."
   ]
  },
  {
   "cell_type": "code",
   "execution_count": 7,
   "metadata": {},
   "outputs": [],
   "source": [
    "image_uri = '<YOUR CONTAINER URI>'"
   ]
  },
  {
   "cell_type": "code",
   "execution_count": null,
   "metadata": {},
   "outputs": [],
   "source": [
    "from datetime import datetime\n",
    "from sagemaker.estimator import Estimator\n",
    "\n",
    "# Create unique job name with timestamp\n",
    "timestamp = datetime.now().strftime('%Y-%m-%d-%H-%M-%S')\n",
    "job_name = f'parler-tts-training-{timestamp}'\n",
    "\n",
    "# Configure the estimator with your custom container\n",
    "# Since your container handles all configs internally, we just need minimal setup\n",
    "estimator = Estimator(\n",
    "    image_uri=image_uri,\n",
    "    role=role,\n",
    "    instance_count=1,\n",
    "    instance_type='ml.g6.12xlarge',  # GPU instance\n",
    "    volume_size=128,  # EBS volume size in GB\n",
    "    max_run=86400,  # Maximum runtime in seconds (24 hours)\n",
    "    sagemaker_session=sess,\n",
    "    # Set any environment variables needed for GPU\n",
    "    environment={\n",
    "        'NVIDIA_VISIBLE_DEVICES': 'all',\n",
    "        'CUDA_VISIBLE_DEVICES': '0'\n",
    "    }\n",
    ")\n",
    "\n",
    "# Start the training job with empty inputs since container handles data sourcing\n",
    "estimator.fit(job_name=job_name, wait=False)\n",
    "\n",
    "print(f\"Training job '{job_name}' started.\")\n",
    "print(f\"You can monitor the job in the SageMaker console or using the command:\")\n",
    "print(f\"aws sagemaker describe-training-job --training-job-name {job_name}\")"
   ]
  },
  {
   "cell_type": "code",
   "execution_count": null,
   "metadata": {},
   "outputs": [],
   "source": []
  }
 ],
 "metadata": {
  "kernelspec": {
   "display_name": "Python 3",
   "language": "python",
   "name": "python3"
  },
  "language_info": {
   "codemirror_mode": {
    "name": "ipython",
    "version": 3
   },
   "file_extension": ".py",
   "mimetype": "text/x-python",
   "name": "python",
   "nbconvert_exporter": "python",
   "pygments_lexer": "ipython3",
   "version": "3.12.1"
  }
 },
 "nbformat": 4,
 "nbformat_minor": 2
}
