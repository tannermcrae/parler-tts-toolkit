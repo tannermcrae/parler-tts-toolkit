{
 "cells": [
  {
   "cell_type": "markdown",
   "metadata": {},
   "source": [
    "# Inference Notebook\n",
    "This notebook can be used to deploy your trained model onto SageMaker and perform inference. In the notebook you will:\n",
    "* Build the inference container\n",
    "* Deploy the model to SageMaker\n",
    "* Spot check the inference results"
   ]
  },
  {
   "cell_type": "markdown",
   "metadata": {},
   "source": [
    "## Build the inference container\n",
    "In the terminal, run the following command to build the inference container and push it to ECR>\n",
    "\n",
    "**Note** In a production environment, you will likely want to build the container in a CI/CD pipeline by executing the script as an action in github, gitlab, or another CI/CD platform.\n",
    "\n",
    "```bash\n",
    "$ cd ..\n",
    "$ . ./script/build-serve-container.sh inference\n",
    "```\n",
    "\n",
    "Copy the output URI from the terminal output and paste it into the variable `image_uri` below."
   ]
  },
  {
   "cell_type": "code",
   "execution_count": 3,
   "metadata": {},
   "outputs": [],
   "source": [
    "image_uri = '<FILL IN>'"
   ]
  },
  {
   "cell_type": "markdown",
   "metadata": {},
   "source": [
    "# Initialize SageMaker Session\n",
    "Use the SageMaker SDK to initialize a SageMaker session, grabbing the default bucket and role."
   ]
  },
  {
   "cell_type": "code",
   "execution_count": 11,
   "metadata": {},
   "outputs": [],
   "source": [
    "import sagemaker\n",
    "import boto3\n",
    "import os\n",
    "\n",
    "sess = sagemaker.Session()\n",
    "# sagemaker session bucket -> used for uploading data, models and logs\n",
    "# sagemaker will automatically create this bucket if it not exists\n",
    "sagemaker_session_bucket=None\n",
    "if sagemaker_session_bucket is None and sess is not None:\n",
    "    # set to default bucket if a bucket name is not given\n",
    "    sagemaker_session_bucket = sess.default_bucket()\n",
    " \n",
    "try:\n",
    "    role = sagemaker.get_execution_role()\n",
    "except ValueError:\n",
    "    iam = boto3.client('iam')\n",
    "    role = iam.get_role(RoleName='sagemaker_execution_role')['Role']['Arn']\n",
    " \n",
    "sess = sagemaker.Session(default_bucket=sagemaker_session_bucket)\n",
    " \n",
    "print(f\"sagemaker role arn: {role}\")\n",
    "print(f\"sagemaker bucket: {sess.default_bucket()}\")\n",
    "print(f\"sagemaker session region: {sess.boto_region_name}\")"
   ]
  },
  {
   "cell_type": "code",
   "execution_count": null,
   "metadata": {},
   "outputs": [],
   "source": [
    "from datetime import datetime\n",
    "\n",
    "# Specify the model data location in S3. If you trained outside of Sagemaker, you need to upload the model somewhere\n",
    "# If you trained in SageMaker, the model artifact from the results will already been uploaded to the default bucket.\n",
    "MODEL_DATA = '<OUTPUT FROM TRAINING JOB>'\n",
    "\n",
    "MODEL_NAME = f'parler-tts-model-{datetime.now().strftime(\"%Y-%m-%d-%H-%M-%S\")}'\n",
    "\n",
    "# Create the model artifact in SageMaker\n",
    "model = sagemaker.Model(\n",
    "    image_uri=image_uri,\n",
    "    role=role,\n",
    "    name=MODEL_NAME,\n",
    "    model_data=MODEL_DATA,\n",
    "    env={\n",
    "        'NVIDIA_VISIBLE_DEVICES': 'all',\n",
    "        'CUDA_VISIBLE_DEVICES': '0'\n",
    "    }\n",
    ")"
   ]
  },
  {
   "cell_type": "code",
   "execution_count": 12,
   "metadata": {},
   "outputs": [],
   "source": [
    "from datetime import datetime\n",
    "predictor = model.deploy(\n",
    "    initial_instance_count=1,\n",
    "    instance_type='ml.g5.2xlarge',\n",
    "    endpoint_name=MODEL_NAME,\n",
    "    environment={\n",
    "        'NVIDIA_VISIBLE_DEVICES': 'all',\n",
    "        'CUDA_VISIBLE_DEVICES': '0'\n",
    "    },\n",
    "    wait=False\n",
    "    \n",
    ")"
   ]
  },
  {
   "cell_type": "markdown",
   "metadata": {},
   "source": [
    "# Test out the endpoint\n",
    "\n",
    "In this section, we'll test out the endpoint by passing in a sample request. The endpoint is configured to return a json payload with the actual audio file as a base64 encoded string."
   ]
  },
  {
   "cell_type": "code",
   "execution_count": 9,
   "metadata": {},
   "outputs": [],
   "source": [
    "import boto3\n",
    "import json\n",
    "\n",
    "# Create a SageMaker runtime client\n",
    "runtime_client = boto3.client('sagemaker-runtime')\n",
    "\n",
    "# Sample input data\n",
    "text = \"Your Text Here\"\n",
    "description = \"Your Description Here\"\n",
    "# Format the input as a JSON payload\n",
    "input_data = [{\"text\": text, \"description\": description}]\n",
    "\n",
    "# Invoke the endpoint\n",
    "response = runtime_client.invoke_endpoint(\n",
    "    EndpointName=MODEL_NAME,\n",
    "    ContentType='application/json',\n",
    "    Body=json.dumps(input_data)\n",
    ")"
   ]
  },
  {
   "cell_type": "markdown",
   "metadata": {},
   "source": [
    "# Convert to WAV file\n",
    "This next part takes the response stream that's base64 encoded and converts it to a WAV file."
   ]
  },
  {
   "cell_type": "code",
   "execution_count": 10,
   "metadata": {},
   "outputs": [
    {
     "name": "stdout",
     "output_type": "stream",
     "text": [
      "Audio saved to output.wav\n"
     ]
    }
   ],
   "source": [
    "import base64\n",
    "import numpy as np\n",
    "from scipy.io.wavfile import write  # Import the write function\n",
    "\n",
    "# Decode the audio since it's in base64. Note that .read() returns a bytes object\n",
    "decoded_audio = base64.b64decode(response['Body'].read())\n",
    "\n",
    "# Convert the decoded bytes to a numpy array\n",
    "audio_array = np.frombuffer(decoded_audio, dtype=np.float32)\n",
    "\n",
    "# Scale the float32 array to int16 range and convert\n",
    "scaled_audio = (audio_array * 32767).astype(np.int16)\n",
    "\n",
    "# Write to WAV file\n",
    "output_filename = \"output.wav\"\n",
    "sample_rate = 44100  # Make sure this matches your model's output sample rate\n",
    "write(output_filename, sample_rate, scaled_audio)\n",
    "\n",
    "print(f\"Audio saved to {output_filename}\")\n"
   ]
  },
  {
   "cell_type": "code",
   "execution_count": null,
   "metadata": {},
   "outputs": [],
   "source": []
  }
 ],
 "metadata": {
  "kernelspec": {
   "display_name": "Python 3",
   "language": "python",
   "name": "python3"
  },
  "language_info": {
   "codemirror_mode": {
    "name": "ipython",
    "version": 3
   },
   "file_extension": ".py",
   "mimetype": "text/x-python",
   "name": "python",
   "nbconvert_exporter": "python",
   "pygments_lexer": "ipython3",
   "version": "3.12.1"
  }
 },
 "nbformat": 4,
 "nbformat_minor": 2
}
